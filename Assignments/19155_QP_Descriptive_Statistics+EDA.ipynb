{
  "nbformat": 4,
  "nbformat_minor": 0,
  "metadata": {
    "colab": {
      "name": "19155_QP_Descriptive_Statistics+EDA.ipynb",
      "provenance": [],
      "collapsed_sections": []
    },
    "kernelspec": {
      "name": "python3",
      "display_name": "Python 3"
    },
    "language_info": {
      "name": "python"
    }
  },
  "cells": [
    {
      "cell_type": "markdown",
      "metadata": {
        "id": "JvWmEYvLe672"
      },
      "source": [
        "# Read and Preprocess"
      ]
    },
    {
      "cell_type": "markdown",
      "metadata": {
        "id": "sbVizKzNcO35"
      },
      "source": [
        "#Instruction: Import required libraries here"
      ]
    },
    {
      "cell_type": "code",
      "metadata": {
        "id": "bva5jvJ9ITlZ"
      },
      "source": [
        "# Import"
      ],
      "execution_count": null,
      "outputs": []
    },
    {
      "cell_type": "code",
      "metadata": {
        "id": "CtxISvR7fqsR"
      },
      "source": [
        "import pandas as pd\n",
        "import numpy as np"
      ],
      "execution_count": 2,
      "outputs": []
    },
    {
      "cell_type": "markdown",
      "metadata": {
        "id": "wE6h5_Yfcbb5"
      },
      "source": [
        "#Instruction: From this [link](https://github.com/dayanandv/Data-Science/tree/main/Evaluation%201_Preprocessing), read the following files into dataframes:\n",
        "\n",
        "    \n",
        "\n",
        "1.   LokSabhaMPs.xls to the dataframe `mps`\n",
        "2.   Each sheet (there are six in total) of the file Seventeenth Lok Sabha_Attendance.xlsx to a list of DataFrames named `attendance`; i.e. each element of the list will be a DataFrame corresponding to a sheet in the file which represents one session.\n",
        "\n",
        "Preprocess, so that:\n",
        "\n",
        "1. The dataframe header map to the row number where column names are listed.\n",
        "2. Extra space at the end of Member Name are handled.\n",
        "\n",
        "Description of the attendance dataset from http://loksabhaph.nic.in\n",
        "\n",
        "S= The Member Signed the Register\n",
        "\n",
        "S*= The Member signed through Mobile Attendance Application\n",
        "\n",
        "S#= The Member signed through both the Register & Mobile Attendance Application\n",
        "\n",
        "NS= The Member did not sign the register. (A Member might have attended the sitting of the House on a particular day but did not sign or forgot to sign the Register for that day )\n",
        "\n",
        "NS@= Member was present but forgot to sign the Attendance Register\n",
        "\n",
        "NR= Not Required. (Hon'ble Speaker, Deputy Speaker, Prime Minister and Minister usually do not sign the Members' Attendance Register)\n"
      ]
    },
    {
      "cell_type": "code",
      "metadata": {
        "id": "57ANXZqhcXSb",
        "colab": {
          "base_uri": "https://localhost:8080/",
          "height": 419
        },
        "outputId": "331ae444-eb10-42bb-fb9f-6ba0355e2ad1"
      },
      "source": [
        "mps = pd.read_excel('https://github.com/UpputuriYESHWANTH/Sem5-FDS/blob/main/Datasets/LokSabha_MPs.xls?raw=2')\n",
        "mps"
      ],
      "execution_count": 12,
      "outputs": [
        {
          "output_type": "execute_result",
          "data": {
            "text/html": [
              "<div>\n",
              "<style scoped>\n",
              "    .dataframe tbody tr th:only-of-type {\n",
              "        vertical-align: middle;\n",
              "    }\n",
              "\n",
              "    .dataframe tbody tr th {\n",
              "        vertical-align: top;\n",
              "    }\n",
              "\n",
              "    .dataframe thead th {\n",
              "        text-align: right;\n",
              "    }\n",
              "</style>\n",
              "<table border=\"1\" class=\"dataframe\">\n",
              "  <thead>\n",
              "    <tr style=\"text-align: right;\">\n",
              "      <th></th>\n",
              "      <th>Seventeenth Lok Sabha</th>\n",
              "      <th>Unnamed: 1</th>\n",
              "      <th>Unnamed: 2</th>\n",
              "    </tr>\n",
              "  </thead>\n",
              "  <tbody>\n",
              "    <tr>\n",
              "      <th>0</th>\n",
              "      <td>Sitting Members (Alphabetical)</td>\n",
              "      <td>NaN</td>\n",
              "      <td>NaN</td>\n",
              "    </tr>\n",
              "    <tr>\n",
              "      <th>1</th>\n",
              "      <td>Name of Member</td>\n",
              "      <td>Party Name</td>\n",
              "      <td>Constituency &amp; State</td>\n",
              "    </tr>\n",
              "    <tr>\n",
              "      <th>2</th>\n",
              "      <td>Shri A. Raja</td>\n",
              "      <td>Dravida Munnetra Kazhagam</td>\n",
              "      <td>Nilgiris (SC)(Tamil Nadu)</td>\n",
              "    </tr>\n",
              "    <tr>\n",
              "      <th>3</th>\n",
              "      <td>Shri Narayana Swamy Abbaiah</td>\n",
              "      <td>Bharatiya Janata Party</td>\n",
              "      <td>Chitradurga (SC)(Karnataka)</td>\n",
              "    </tr>\n",
              "    <tr>\n",
              "      <th>4</th>\n",
              "      <td>Dr. Farooq Abdullah</td>\n",
              "      <td>Jammu and Kashmir National Conference</td>\n",
              "      <td>Srinagar (Jammu and Kashmir)</td>\n",
              "    </tr>\n",
              "    <tr>\n",
              "      <th>...</th>\n",
              "      <td>...</td>\n",
              "      <td>...</td>\n",
              "      <td>...</td>\n",
              "    </tr>\n",
              "    <tr>\n",
              "      <th>537</th>\n",
              "      <td>Dr. Krishnapal Singh Yadav</td>\n",
              "      <td>Bharatiya Janata Party</td>\n",
              "      <td>Guna (Madhya Pradesh)</td>\n",
              "    </tr>\n",
              "    <tr>\n",
              "      <th>538</th>\n",
              "      <td>Shri Mulayam Singh Yadav</td>\n",
              "      <td>Samajwadi Party</td>\n",
              "      <td>Mainpuri (Uttar Pradesh)</td>\n",
              "    </tr>\n",
              "    <tr>\n",
              "      <th>539</th>\n",
              "      <td>Shri Ram Kripal Yadav</td>\n",
              "      <td>Bharatiya Janata Party</td>\n",
              "      <td>Pataliputra (Bihar)</td>\n",
              "    </tr>\n",
              "    <tr>\n",
              "      <th>540</th>\n",
              "      <td>Shri Shyam Singh Yadav</td>\n",
              "      <td>Bahujan Samaj Party</td>\n",
              "      <td>Jaunpur (Uttar Pradesh)</td>\n",
              "    </tr>\n",
              "    <tr>\n",
              "      <th>541</th>\n",
              "      <td>Shri Tokheho Yepthomi</td>\n",
              "      <td>Nationalist Democratic Progressive Party</td>\n",
              "      <td>Nagaland (Nagaland)</td>\n",
              "    </tr>\n",
              "  </tbody>\n",
              "</table>\n",
              "<p>542 rows × 3 columns</p>\n",
              "</div>"
            ],
            "text/plain": [
              "              Seventeenth Lok Sabha  ...                    Unnamed: 2\n",
              "0    Sitting Members (Alphabetical)  ...                           NaN\n",
              "1                    Name of Member  ...          Constituency & State\n",
              "2                      Shri A. Raja  ...     Nilgiris (SC)(Tamil Nadu)\n",
              "3       Shri Narayana Swamy Abbaiah  ...   Chitradurga (SC)(Karnataka)\n",
              "4               Dr. Farooq Abdullah  ...  Srinagar (Jammu and Kashmir)\n",
              "..                              ...  ...                           ...\n",
              "537      Dr. Krishnapal Singh Yadav  ...         Guna (Madhya Pradesh)\n",
              "538        Shri Mulayam Singh Yadav  ...      Mainpuri (Uttar Pradesh)\n",
              "539           Shri Ram Kripal Yadav  ...           Pataliputra (Bihar)\n",
              "540          Shri Shyam Singh Yadav  ...       Jaunpur (Uttar Pradesh)\n",
              "541           Shri Tokheho Yepthomi  ...           Nagaland (Nagaland)\n",
              "\n",
              "[542 rows x 3 columns]"
            ]
          },
          "metadata": {},
          "execution_count": 12
        }
      ]
    },
    {
      "cell_type": "code",
      "metadata": {
        "id": "bhX327dCdyWD"
      },
      "source": [
        "attendance = []\n",
        "for i in range(6):\n",
        "  val = pd.read_excel('https://github.com/UpputuriYESHWANTH/Sem5-FDS/blob/main/Datasets/Seventeenth%20Lok%20Sabha_Attendance.xlsx?raw==true',sheet_name=i)\n",
        "  attendance.append(val)"
      ],
      "execution_count": 14,
      "outputs": []
    },
    {
      "cell_type": "markdown",
      "metadata": {
        "id": "7OhvfFldcIKg"
      },
      "source": [
        "# Q1. Edit the function q1 such that it returns a tuple containing the the number of rows of `mps` and number of elements in `attendance` respectively."
      ]
    },
    {
      "cell_type": "code",
      "metadata": {
        "id": "gVT3UoGicKzh",
        "colab": {
          "base_uri": "https://localhost:8080/"
        },
        "outputId": "e8d19948-263d-423b-ff12-c9e9da9db761"
      },
      "source": [
        "def q1():\n",
        "  nor_mps = len(mps)\n",
        "  nor_attendance = val.count().sum()\n",
        "  return (nor_mps, nor_attendance)\n",
        "q1()"
      ],
      "execution_count": 15,
      "outputs": [
        {
          "output_type": "execute_result",
          "data": {
            "text/plain": [
              "(542, 1928)"
            ]
          },
          "metadata": {},
          "execution_count": 15
        }
      ]
    },
    {
      "cell_type": "markdown",
      "metadata": {
        "id": "Ftnn61kJ0rKV"
      },
      "source": [
        "#Instruction: Have the attendance percentages of each session (sheet) calculated and added to its respective dataframe as a column named `Attendance Percentage`."
      ]
    },
    {
      "cell_type": "code",
      "metadata": {
        "id": "N1RK_enL1NMZ",
        "colab": {
          "base_uri": "https://localhost:8080/",
          "height": 204
        },
        "outputId": "1c0ed06d-824f-4c0a-e7e9-c5ddce261372"
      },
      "source": [
        "for i in attendance:\n",
        "  i['Attendance Percentage']=i['No. of days Members signed the Register']/(i['No. of days Members signed the Register']+i['No. of days Members not signed the Register'])*100\n",
        "attendance[1].head(5)"
      ],
      "execution_count": 17,
      "outputs": [
        {
          "output_type": "execute_result",
          "data": {
            "text/html": [
              "<div>\n",
              "<style scoped>\n",
              "    .dataframe tbody tr th:only-of-type {\n",
              "        vertical-align: middle;\n",
              "    }\n",
              "\n",
              "    .dataframe tbody tr th {\n",
              "        vertical-align: top;\n",
              "    }\n",
              "\n",
              "    .dataframe thead th {\n",
              "        text-align: right;\n",
              "    }\n",
              "</style>\n",
              "<table border=\"1\" class=\"dataframe\">\n",
              "  <thead>\n",
              "    <tr style=\"text-align: right;\">\n",
              "      <th></th>\n",
              "      <th>Division NO</th>\n",
              "      <th>Member Name</th>\n",
              "      <th>No. of days Members signed the Register</th>\n",
              "      <th>No. of days Members not signed the Register</th>\n",
              "      <th>Attendance Percentage</th>\n",
              "    </tr>\n",
              "  </thead>\n",
              "  <tbody>\n",
              "    <tr>\n",
              "      <th>0</th>\n",
              "      <td>15</td>\n",
              "      <td>Dr. Jitendra Singh</td>\n",
              "      <td>19</td>\n",
              "      <td>1</td>\n",
              "      <td>95.0</td>\n",
              "    </tr>\n",
              "    <tr>\n",
              "      <th>1</th>\n",
              "      <td>20</td>\n",
              "      <td>Shri Faggan Singh Kulaste</td>\n",
              "      <td>1</td>\n",
              "      <td>19</td>\n",
              "      <td>5.0</td>\n",
              "    </tr>\n",
              "    <tr>\n",
              "      <th>2</th>\n",
              "      <td>22</td>\n",
              "      <td>Dr. Sanjay Jaiswal</td>\n",
              "      <td>15</td>\n",
              "      <td>5</td>\n",
              "      <td>75.0</td>\n",
              "    </tr>\n",
              "    <tr>\n",
              "      <th>3</th>\n",
              "      <td>31</td>\n",
              "      <td>Shri Rakesh Singh</td>\n",
              "      <td>16</td>\n",
              "      <td>4</td>\n",
              "      <td>80.0</td>\n",
              "    </tr>\n",
              "    <tr>\n",
              "      <th>4</th>\n",
              "      <td>32</td>\n",
              "      <td>Shri Nishikant Dubey</td>\n",
              "      <td>20</td>\n",
              "      <td>0</td>\n",
              "      <td>100.0</td>\n",
              "    </tr>\n",
              "  </tbody>\n",
              "</table>\n",
              "</div>"
            ],
            "text/plain": [
              "   Division NO  ... Attendance Percentage\n",
              "0           15  ...                  95.0\n",
              "1           20  ...                   5.0\n",
              "2           22  ...                  75.0\n",
              "3           31  ...                  80.0\n",
              "4           32  ...                 100.0\n",
              "\n",
              "[5 rows x 5 columns]"
            ]
          },
          "metadata": {},
          "execution_count": 17
        }
      ]
    },
    {
      "cell_type": "markdown",
      "metadata": {
        "id": "pGYny8A-iOVQ"
      },
      "source": [
        "#Q2. Edit the function q2 such that it returns the percentage of MPs among those who attended session 1 (round to two decimal places) who had 100% attendance."
      ]
    },
    {
      "cell_type": "code",
      "metadata": {
        "id": "p9d5M642hUiY",
        "colab": {
          "base_uri": "https://localhost:8080/"
        },
        "outputId": "1110ec49-2da5-4e4e-8aea-d485e83ca13b"
      },
      "source": [
        "def q2():\n",
        "  percentage=len(attendance[0][attendance[0]['Attendance Percentage']==100])/len(attendance[0])*100\n",
        "  return round(percentage,2)\n",
        "q2()"
      ],
      "execution_count": 18,
      "outputs": [
        {
          "output_type": "execute_result",
          "data": {
            "text/plain": [
              "20.23"
            ]
          },
          "metadata": {},
          "execution_count": 18
        }
      ]
    },
    {
      "cell_type": "markdown",
      "metadata": {
        "id": "d3tDqa1iwMKz"
      },
      "source": [
        "#Q3. Edit the function q3 such that it returns the skew value (round to two decimal places) of the Attendance Percentages of MPs in session 2 (sheet 2).  "
      ]
    },
    {
      "cell_type": "code",
      "metadata": {
        "id": "UoNrGeJswz1W",
        "colab": {
          "base_uri": "https://localhost:8080/"
        },
        "outputId": "9f8501b5-a722-443d-d58b-3a94dc3a79b7"
      },
      "source": [
        "def q3():\n",
        "  skew = attendance[1]['Attendance Percentage'].skew()\n",
        "  return round(skew,2)\n",
        "q3()"
      ],
      "execution_count": 19,
      "outputs": [
        {
          "output_type": "execute_result",
          "data": {
            "text/plain": [
              "-1.64"
            ]
          },
          "metadata": {},
          "execution_count": 19
        }
      ]
    },
    {
      "cell_type": "markdown",
      "metadata": {
        "id": "1TBy6RJ6yKQx"
      },
      "source": [
        "#Q4. Edit the function q4 such that it returns the kurtosis value of the number of days that the MPs have not signed in the register during session 3 (sheet 3).  "
      ]
    },
    {
      "cell_type": "code",
      "metadata": {
        "id": "Y-jVeoh1ySBg",
        "colab": {
          "base_uri": "https://localhost:8080/"
        },
        "outputId": "94580285-00eb-4ff5-b6aa-699288737e26"
      },
      "source": [
        "def q4():\n",
        "  kurt = attendance[2][\"No. of days Members not signed the Register\"].kurt()\n",
        "  return round(kurt,2)\n",
        "q4()"
      ],
      "execution_count": 20,
      "outputs": [
        {
          "output_type": "execute_result",
          "data": {
            "text/plain": [
              "1.56"
            ]
          },
          "metadata": {},
          "execution_count": 20
        }
      ]
    },
    {
      "cell_type": "markdown",
      "metadata": {
        "id": "eLeL-slM0Zsx"
      },
      "source": [
        "#Instruction: Plot a histogram of the Attendance Percentage' column of session 4 (sheet 4) and use it to answer the following question."
      ]
    },
    {
      "cell_type": "code",
      "metadata": {
        "id": "7t6qE3AY4U8L",
        "colab": {
          "base_uri": "https://localhost:8080/",
          "height": 316
        },
        "outputId": "8ce9bacc-2106-459d-d9dc-7aa4bde53a9d"
      },
      "source": [
        "import matplotlib.pyplot as plt\n",
        "plt.hist(attendance[3]['Attendance Percentage'])"
      ],
      "execution_count": 21,
      "outputs": [
        {
          "output_type": "execute_result",
          "data": {
            "text/plain": [
              "(array([  8.,   5.,  10.,  11.,  13.,  12.,  25.,  27.,  65., 250.]),\n",
              " array([ 10.,  19.,  28.,  37.,  46.,  55.,  64.,  73.,  82.,  91., 100.]),\n",
              " <a list of 10 Patch objects>)"
            ]
          },
          "metadata": {},
          "execution_count": 21
        },
        {
          "output_type": "display_data",
          "data": {
            "image/png": "[encoded data removed]",
            "text/plain": [
              "<Figure size 432x288 with 1 Axes>"
            ]
          },
          "metadata": {
            "needs_background": "light"
          }
        }
      ]
    },
    {
      "cell_type": "markdown",
      "metadata": {
        "id": "QoFIx4Al2Fgr"
      },
      "source": [
        "#Q5. Edit the function q5 such that it returns the boolean value corresponding to whether the histogram of the `Attendance Percentage` column of any arbitrary session shows a heavily skewed distribution (True/False). The session number is  to be passed onto the function as an integer argument.\n",
        "\n",
        "For this example, assume that we call a distribution as heavily skewed if it's absolute skew value is **more than 1.7**."
      ]
    },
    {
      "cell_type": "code",
      "metadata": {
        "id": "RzAId78AzTPb",
        "colab": {
          "base_uri": "https://localhost:8080/"
        },
        "outputId": "d5acdaf3-0807-4b46-bc5a-620adfed5422"
      },
      "source": [
        "def q5(session_number):\n",
        "    skew = attendance[session_number-1]['Attendance Percentage'].skew()\n",
        "    if(abs(round(skew,2))>1.7):\n",
        "        answer = True\n",
        "    else:\n",
        "        answer = False\n",
        "    return answer\n",
        "q5(5)"
      ],
      "execution_count": 22,
      "outputs": [
        {
          "output_type": "execute_result",
          "data": {
            "text/plain": [
              "False"
            ]
          },
          "metadata": {},
          "execution_count": 22
        }
      ]
    },
    {
      "cell_type": "markdown",
      "metadata": {
        "id": "VnMSEtYW60dC"
      },
      "source": [
        "#Q6. Edit the function q6 such that it goes through the mean values of the attendance percentages of each session and returns a list named `outliers` with the number(s) of the session(s) which is/are outlier(s). If there are no outliers return an empty list."
      ]
    },
    {
      "cell_type": "code",
      "metadata": {
        "id": "OV_97iCj4PJq"
      },
      "source": [
        "def q6():\n",
        "  #Write your code here\n",
        "  return outliers\n",
        "\n",
        "q6()"
      ],
      "execution_count": null,
      "outputs": []
    },
    {
      "cell_type": "markdown",
      "metadata": {
        "id": "RADBblUEG9vl"
      },
      "source": [
        "#Q7. Edit the function q7 such that it returns a list named `dnos` having the 'Division No' (in the ascending order) of those MPs who are the most consistent in their attendance, as per the conditions listed below.\n",
        "\n",
        "* Consider only those MPs who have attended at least two sessions. \n",
        "* For this example, assume that consistency can be calculated via the standard \n",
        "deviation of their attendance percentages across sessions. The lesser the standard deviation, better consistant the attendace is."
      ]
    },
    {
      "cell_type": "code",
      "metadata": {
        "id": "mkHRkK3XIR5M"
      },
      "source": [
        "def q7():\n",
        "  # Write your code here\n",
        "  return dnos\n",
        "\n",
        "q7()"
      ],
      "execution_count": null,
      "outputs": []
    }
  ]
}