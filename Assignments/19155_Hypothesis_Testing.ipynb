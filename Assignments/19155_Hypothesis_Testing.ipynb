{
  "nbformat": 4,
  "nbformat_minor": 0,
  "metadata": {
    "kernelspec": {
      "display_name": "Python 3",
      "language": "python",
      "name": "python3"
    },
    "language_info": {
      "codemirror_mode": {
        "name": "ipython",
        "version": 3
      },
      "file_extension": ".py",
      "mimetype": "text/x-python",
      "name": "python",
      "nbconvert_exporter": "python",
      "pygments_lexer": "ipython3",
      "version": "3.6.9"
    },
    "colab": {
      "name": "19155_Hypothesis_Testing.ipynb",
      "provenance": [],
      "collapsed_sections": []
    }
  },
  "cells": [
    {
      "cell_type": "code",
      "metadata": {
        "id": "SRyalNhBwYEg"
      },
      "source": [
        "import numpy as np\n",
        "import scipy.stats as st"
      ],
      "execution_count": 1,
      "outputs": []
    },
    {
      "cell_type": "markdown",
      "metadata": {
        "id": "j6AmwSarBV7k"
      },
      "source": [
        "##1. Travel Times to Work :\n",
        "Based on information from the U.S. Census Bureau, the mean travel time to work\n",
        "in minutes for all workers 16 years old and older was 25.3 minutes. A large\n",
        "company with offices in several states randomly sampled 100 of its workers to\n",
        "ascertain their commuting times. The sample mean was 23.9 minutes, and the\n",
        "population standard deviation is 6.39 minutes. At the 0.01 level of significance,can it be concluded that the mean commuting time is less for this particular company?\n"
      ]
    },
    {
      "cell_type": "code",
      "metadata": {
        "id": "MAR4z2TLBuvb"
      },
      "source": [
        "#H0 : μ = 16, Ha :  μ > 25.3\n",
        "n = 100\n",
        "xbar = 23.9\n",
        "mu = 25.3\n",
        "sigma = 6.39\n",
        "alpha = 0.01"
      ],
      "execution_count": 2,
      "outputs": []
    },
    {
      "cell_type": "code",
      "metadata": {
        "colab": {
          "base_uri": "https://localhost:8080/"
        },
        "id": "qhbAkDW0DNiV",
        "outputId": "dc798876-400f-4bea-fddb-c4378df5d1c6"
      },
      "source": [
        "z_critical = abs(st.norm.ppf(alpha)) #Absolute value taken as the it's a right-tailed test and the original value will be negative\n",
        "z_critical"
      ],
      "execution_count": 3,
      "outputs": [
        {
          "output_type": "execute_result",
          "data": {
            "text/plain": [
              "2.3263478740408408"
            ]
          },
          "metadata": {},
          "execution_count": 3
        }
      ]
    },
    {
      "cell_type": "code",
      "metadata": {
        "colab": {
          "base_uri": "https://localhost:8080/"
        },
        "id": "v7J_eLqhDUR7",
        "outputId": "9e2d53f2-20d1-4039-bdcd-a6412410ea5c"
      },
      "source": [
        "z = (xbar-mu)/(sigma/np.sqrt(n))\n",
        "z"
      ],
      "execution_count": 4,
      "outputs": [
        {
          "output_type": "execute_result",
          "data": {
            "text/plain": [
              "-2.1909233176838843"
            ]
          },
          "metadata": {},
          "execution_count": 4
        }
      ]
    },
    {
      "cell_type": "code",
      "metadata": {
        "colab": {
          "base_uri": "https://localhost:8080/"
        },
        "id": "W-bCWH6YDfRN",
        "outputId": "4c5555c5-cd07-4d4a-94f2-e312d768a747"
      },
      "source": [
        "if (z < z_critical): \n",
        "    print(\"Null hypothesis cannot be rejected\")\n",
        "else:\n",
        "    print(\"Reject null hypothesis\")"
      ],
      "execution_count": 5,
      "outputs": [
        {
          "output_type": "stream",
          "name": "stdout",
          "text": [
            "Null hypothesis cannot be rejected\n"
          ]
        }
      ]
    },
    {
      "cell_type": "markdown",
      "metadata": {
        "id": "x433Q7oFFwaV"
      },
      "source": [
        "##2. Time Until Indigestion Relief:\n",
        "\n",
        "An advertisement claims that Fasto Stomach Calm will provide relief from\n",
        "indigestion in less than 10 minutes. For a test of the claim, 35 randomly selected individuals were given the product; the average time until relief was 9.25 minutes.From past studies, the standard deviation of the population is known to be 2 minutes. Can you,conclude that the claim is justified? Find the P‐value,and let α =0.05"
      ]
    },
    {
      "cell_type": "code",
      "metadata": {
        "id": "oJ_dHE6MGGAs"
      },
      "source": [
        "#H0 : μ >= 10 and Ha : μ < 10\n",
        "n = 35\n",
        "xbar = 9.25\n",
        "mu = 10\n",
        "sigma = 2\n",
        "alpha = 0.05"
      ],
      "execution_count": 6,
      "outputs": []
    },
    {
      "cell_type": "code",
      "metadata": {
        "colab": {
          "base_uri": "https://localhost:8080/"
        },
        "id": "_MklBlCxG-rX",
        "outputId": "6aa9dfbb-73ef-48d2-ba94-7db0d14f8160"
      },
      "source": [
        "z = (xbar-mu)/(sigma/np.sqrt(n))\n",
        "z"
      ],
      "execution_count": 7,
      "outputs": [
        {
          "output_type": "execute_result",
          "data": {
            "text/plain": [
              "-2.218529918662356"
            ]
          },
          "metadata": {},
          "execution_count": 7
        }
      ]
    },
    {
      "cell_type": "code",
      "metadata": {
        "colab": {
          "base_uri": "https://localhost:8080/"
        },
        "id": "Oy_o0CStHBvC",
        "outputId": "df4c21b5-da53-47ca-d58c-51c7cad9b917"
      },
      "source": [
        "p_val = (1 - st.norm.cdf(abs(z))) * 2\n",
        "p_val"
      ],
      "execution_count": 8,
      "outputs": [
        {
          "output_type": "execute_result",
          "data": {
            "text/plain": [
              "0.026518721959430724"
            ]
          },
          "metadata": {},
          "execution_count": 8
        }
      ]
    },
    {
      "cell_type": "code",
      "metadata": {
        "colab": {
          "base_uri": "https://localhost:8080/"
        },
        "id": "FG6NsMMhHFcx",
        "outputId": "32ef7d5d-6a1e-47e4-a8d0-2c85100a0a97"
      },
      "source": [
        "if (p_val > alpha):\n",
        "    print(\"Null hypothesis cannot be rejected\")\n",
        "else:\n",
        "    print(\"Reject null hypothesis\")"
      ],
      "execution_count": 9,
      "outputs": [
        {
          "output_type": "stream",
          "name": "stdout",
          "text": [
            "Reject null hypothesis\n"
          ]
        }
      ]
    },
    {
      "cell_type": "markdown",
      "metadata": {
        "id": "VlWNwu5VH6Ze"
      },
      "source": [
        "##3.Trifecta Winnings:\n",
        "A random sample of 1 Dollar Trifecta tickets at a local racetrack paid the following\n",
        "amounts,(in dollars and cents). Is there sufficient evidence to conclude that the\n",
        "average Trifecta winnings exceed $50? Use α = 0.10. Assume the variable is\n",
        "normally distributed.    8.90,70.20,15.00,29.10,141.00,48.60,83.00,72.70,75.30,59.20,32.40,19.00,190.10 "
      ]
    },
    {
      "cell_type": "code",
      "metadata": {
        "id": "z9zm8LlsIl_C"
      },
      "source": [
        "#H0 : μ = 50, Ha : μ > 50\n",
        "n = 13\n",
        "degrees_of_freedom = n-1\n",
        "xbar = 59.73\n",
        "mu = 50\n",
        "s = 54.17723\n",
        "alpha = 0.10"
      ],
      "execution_count": 10,
      "outputs": []
    },
    {
      "cell_type": "code",
      "metadata": {
        "colab": {
          "base_uri": "https://localhost:8080/"
        },
        "id": "vnQ8FuSRJHvm",
        "outputId": "4f3d9fc1-386d-48eb-ccb8-a7bd35f4c3a5"
      },
      "source": [
        "t = (xbar - mu)/(s / np.sqrt(n))\n",
        "t"
      ],
      "execution_count": 11,
      "outputs": [
        {
          "output_type": "execute_result",
          "data": {
            "text/plain": [
              "0.6475416685250354"
            ]
          },
          "metadata": {},
          "execution_count": 11
        }
      ]
    },
    {
      "cell_type": "code",
      "metadata": {
        "colab": {
          "base_uri": "https://localhost:8080/"
        },
        "id": "2VKVkTpfJHsM",
        "outputId": "62bf08df-81f1-4b76-faf8-2be8696df366"
      },
      "source": [
        "p_val = (1 - st.t.cdf(abs(t), degrees_of_freedom)) #\"1 - cdf\" because it's a right-tailed test\n",
        "p_val"
      ],
      "execution_count": 12,
      "outputs": [
        {
          "output_type": "execute_result",
          "data": {
            "text/plain": [
              "0.2647376565885107"
            ]
          },
          "metadata": {},
          "execution_count": 12
        }
      ]
    },
    {
      "cell_type": "code",
      "metadata": {
        "colab": {
          "base_uri": "https://localhost:8080/"
        },
        "id": "1CseEJ_PJR-x",
        "outputId": "e0d4a17d-9272-4db7-8522-51102fb5d1f4"
      },
      "source": [
        "if (p_val > alpha):\n",
        "    print(\"Null hypothesis cannot be rejected\")\n",
        "else:\n",
        "    print(\"Reject null hypothesis\")"
      ],
      "execution_count": 13,
      "outputs": [
        {
          "output_type": "stream",
          "name": "stdout",
          "text": [
            "Null hypothesis cannot be rejected\n"
          ]
        }
      ]
    },
    {
      "cell_type": "markdown",
      "metadata": {
        "id": "Dfz2a1rfKXR9"
      },
      "source": [
        "##4. Whooping Crane Eggs:\n",
        "Once down to about 15, the world’s only wild flock of whooping cranes now\n",
        "numbers a record 237 birds in its Texas Coastal Bend, wintering ground. The\n",
        "average whooping crane egg weighs 208 grams. A new batch of randomly selected\n",
        "eggs was recently weighed, and their weights are listed below. At α = 0.01, is there sufficient evidence to conclude that the weight is greater than 208 grams? Assume the variable is normally distributed.\n",
        "210,210.2,208.5,209,211.6,206.4,212,209.7,210.3\n"
      ]
    },
    {
      "cell_type": "code",
      "metadata": {
        "id": "MoWUeuqqKgTx"
      },
      "source": [
        "#H0 : μ <= 208, Ha : μ > 208\n",
        "n = 15\n",
        "degrees_of_freedom = n-1\n",
        "xbar = 209.74\n",
        "mu = 208\n",
        "s = 1.6734\n",
        "alpha = 0.01"
      ],
      "execution_count": 14,
      "outputs": []
    },
    {
      "cell_type": "code",
      "metadata": {
        "colab": {
          "base_uri": "https://localhost:8080/"
        },
        "id": "kULrAE8IK_te",
        "outputId": "16d41de4-fd5e-4174-e129-62f4d83331fa"
      },
      "source": [
        "t = (xbar - mu)/(s / np.sqrt(n))\n",
        "t"
      ],
      "execution_count": 15,
      "outputs": [
        {
          "output_type": "execute_result",
          "data": {
            "text/plain": [
              "4.027125028326127"
            ]
          },
          "metadata": {},
          "execution_count": 15
        }
      ]
    },
    {
      "cell_type": "code",
      "metadata": {
        "colab": {
          "base_uri": "https://localhost:8080/"
        },
        "id": "6il0qMPnK_jQ",
        "outputId": "bcc8ae96-70f8-4ef0-8da2-d18536b7d99d"
      },
      "source": [
        "t_critical = st.t.ppf(alpha/2, degrees_of_freedom)\n",
        "t_critical"
      ],
      "execution_count": 16,
      "outputs": [
        {
          "output_type": "execute_result",
          "data": {
            "text/plain": [
              "-2.9768427341126604"
            ]
          },
          "metadata": {},
          "execution_count": 16
        }
      ]
    },
    {
      "cell_type": "code",
      "metadata": {
        "colab": {
          "base_uri": "https://localhost:8080/"
        },
        "id": "oXCkp91jK_BD",
        "outputId": "621785ed-34fe-4f14-d86c-67f57e657a6d"
      },
      "source": [
        "if (abs(t) > abs(t_critical)): #Absolute value taken as the it's a two-tailed test and the original t_critical value might be negative\n",
        "    print(\"Null hypothesis cannot be rejected\")\n",
        "else:\n",
        "    print(\"Reject null hypothesis\")"
      ],
      "execution_count": 17,
      "outputs": [
        {
          "output_type": "stream",
          "name": "stdout",
          "text": [
            "Null hypothesis cannot be rejected\n"
          ]
        }
      ]
    },
    {
      "cell_type": "markdown",
      "metadata": {
        "id": "2CA5D711PRK0"
      },
      "source": [
        "##5. Federal Prison Populations \n",
        "Nationally 60.2% of federal prisoners are serving time for drug offences. A warden\n",
        "feels that in his prison the percentage is even higher. He surveys 400 randomly\n",
        "selected inmates’ records and finds that 260 of the inmates are drug offenders. At\n",
        "α = 0.05, is he correct?"
      ]
    },
    {
      "cell_type": "code",
      "metadata": {
        "id": "lwf1NElFPYaQ"
      },
      "source": [
        "#H0 : p = 0.602 and Ha : p>0.602\n",
        "n = 400\n",
        "xbar = 0.65\n",
        "mu = 0.602\n",
        "sigma = 0.398\n",
        "alpha = 0.05"
      ],
      "execution_count": 18,
      "outputs": []
    },
    {
      "cell_type": "code",
      "metadata": {
        "colab": {
          "base_uri": "https://localhost:8080/"
        },
        "id": "2oMC-LAgP9SN",
        "outputId": "ea3251af-4821-477d-d105-fbb56e8df01f"
      },
      "source": [
        "z = (xbar-mu)/(sigma/np.sqrt(n))\n",
        "z"
      ],
      "execution_count": 19,
      "outputs": [
        {
          "output_type": "execute_result",
          "data": {
            "text/plain": [
              "2.4120603015075397"
            ]
          },
          "metadata": {},
          "execution_count": 19
        }
      ]
    },
    {
      "cell_type": "code",
      "metadata": {
        "colab": {
          "base_uri": "https://localhost:8080/"
        },
        "id": "PQiEGQwSP_5s",
        "outputId": "e9ef62d7-d6f5-44d5-ac1f-bb516ca22d5f"
      },
      "source": [
        "p_val = (1 - st.norm.cdf(abs(z))) * 2\n",
        "p_val"
      ],
      "execution_count": 20,
      "outputs": [
        {
          "output_type": "execute_result",
          "data": {
            "text/plain": [
              "0.015862657734413865"
            ]
          },
          "metadata": {},
          "execution_count": 20
        }
      ]
    },
    {
      "cell_type": "code",
      "metadata": {
        "colab": {
          "base_uri": "https://localhost:8080/"
        },
        "id": "p5CrdZ5XP_Oe",
        "outputId": "eb9d6d7c-7a59-4faa-f4eb-667a5e60d2d3"
      },
      "source": [
        "if (p_val > alpha):\n",
        "    print(\"Null hypothesis cannot be rejected\")\n",
        "else:\n",
        "    print(\"Reject null hypothesis\")"
      ],
      "execution_count": 21,
      "outputs": [
        {
          "output_type": "stream",
          "name": "stdout",
          "text": [
            "Reject null hypothesis\n"
          ]
        }
      ]
    },
    {
      "cell_type": "markdown",
      "metadata": {
        "id": "pb1r2lR-Rcsz"
      },
      "source": [
        "##6. MP3 Ownership\n",
        "An MP3 manufacturer claims that 65%,of teenagers 13 to 16 years old have their\n",
        "own MP3 players. A researcher wishes to test the claim and selects a,random\n",
        "sample of 80 teenagers. She finds that 57 have their own MP3 players. At α = 0.05,\n",
        "should the claim be,rejected? Use the P-value method."
      ]
    },
    {
      "cell_type": "code",
      "metadata": {
        "id": "kQkNDr1HRfTe"
      },
      "source": [
        "#H0 : μ = 0.65 and Ha : μ != 0.65\n",
        "n = 80\n",
        "xbar = 0.71\n",
        "mu = 0.65\n",
        "sigma = 0.35\n",
        "alpha = 0.05"
      ],
      "execution_count": 22,
      "outputs": []
    },
    {
      "cell_type": "code",
      "metadata": {
        "colab": {
          "base_uri": "https://localhost:8080/"
        },
        "id": "m1DRBKrxRfLr",
        "outputId": "f4ecbd8e-e400-4d26-92cd-ed5b2c704690"
      },
      "source": [
        "z = (xbar-mu)/(sigma/np.sqrt(n))\n",
        "z"
      ],
      "execution_count": 23,
      "outputs": [
        {
          "output_type": "execute_result",
          "data": {
            "text/plain": [
              "1.5333037559998546"
            ]
          },
          "metadata": {},
          "execution_count": 23
        }
      ]
    },
    {
      "cell_type": "code",
      "metadata": {
        "colab": {
          "base_uri": "https://localhost:8080/"
        },
        "id": "0GhQB6mwRe4d",
        "outputId": "76369ec4-436d-4ab1-f6d6-5c670f868238"
      },
      "source": [
        "p_val = (1 - st.norm.cdf(abs(z))) * 2\n",
        "p_val"
      ],
      "execution_count": 24,
      "outputs": [
        {
          "output_type": "execute_result",
          "data": {
            "text/plain": [
              "0.12520102961031565"
            ]
          },
          "metadata": {},
          "execution_count": 24
        }
      ]
    },
    {
      "cell_type": "code",
      "metadata": {
        "colab": {
          "base_uri": "https://localhost:8080/"
        },
        "id": "2LlZrKvPR6YJ",
        "outputId": "18703375-a426-4d7c-fcd5-2c8b2ea639e1"
      },
      "source": [
        "if (p_val > alpha):\n",
        "    print(\"Null hypothesis cannot be rejected\")\n",
        "else:\n",
        "    print(\"Reject null hypothesis\")"
      ],
      "execution_count": 25,
      "outputs": [
        {
          "output_type": "stream",
          "name": "stdout",
          "text": [
            "Null hypothesis cannot be rejected\n"
          ]
        }
      ]
    },
    {
      "cell_type": "markdown",
      "metadata": {
        "id": "rU7tgd6kTjOy"
      },
      "source": [
        "##7. Men Aged 65 and Over in the Labour Force:\n",
        "Of men,aged 65 and over 20.5% are still in the U.S. labour force.,A random sample\n",
        "of 120 retired male teachers indicated that 38 were still working. Use both a\n",
        "confidence,interval and a hypothesis test. Test the claim that the,proportion is\n",
        "greater than 20.5% at α = 0.10."
      ]
    },
    {
      "cell_type": "code",
      "metadata": {
        "id": "jreIYS8hTO-i"
      },
      "source": [
        "#H0 : μ = 0.205 and Ha : μ > 0.205\n",
        "n =120\n",
        "xbar = 0.317\n",
        "mu = 0.205\n",
        "sigma = 0.359\n",
        "alpha = 0.10"
      ],
      "execution_count": 26,
      "outputs": []
    },
    {
      "cell_type": "code",
      "metadata": {
        "colab": {
          "base_uri": "https://localhost:8080/"
        },
        "id": "c-Rxq_3AVYWX",
        "outputId": "11e89893-5357-4300-b101-163896f12ce1"
      },
      "source": [
        "z = (xbar-mu)/(sigma/np.sqrt(n))\n",
        "z"
      ],
      "execution_count": 27,
      "outputs": [
        {
          "output_type": "execute_result",
          "data": {
            "text/plain": [
              "3.4175446485002015"
            ]
          },
          "metadata": {},
          "execution_count": 27
        }
      ]
    },
    {
      "cell_type": "code",
      "metadata": {
        "colab": {
          "base_uri": "https://localhost:8080/"
        },
        "id": "2qdw-PUKVYS3",
        "outputId": "0602842e-355b-4799-91aa-34c32e79c767"
      },
      "source": [
        "p_val = (1 - st.norm.cdf(abs(z))) * 2\n",
        "p_val"
      ],
      "execution_count": 28,
      "outputs": [
        {
          "output_type": "execute_result",
          "data": {
            "text/plain": [
              "0.0006318872872197456"
            ]
          },
          "metadata": {},
          "execution_count": 28
        }
      ]
    },
    {
      "cell_type": "code",
      "metadata": {
        "colab": {
          "base_uri": "https://localhost:8080/"
        },
        "id": "FX2z9EBqVYM5",
        "outputId": "4cfd70c2-098c-42ed-80ee-6eb7ed7ea493"
      },
      "source": [
        "if (p_val > alpha):\n",
        "    print(\"Null hypothesis cannot be rejected\")\n",
        "else:\n",
        "    print(\"Reject null hypothesis\")"
      ],
      "execution_count": 29,
      "outputs": [
        {
          "output_type": "stream",
          "name": "stdout",
          "text": [
            "Reject null hypothesis\n"
          ]
        }
      ]
    },
    {
      "cell_type": "markdown",
      "metadata": {
        "id": "rkNGI2LQWSN0"
      },
      "source": [
        "##8. Movie Admission Prices:\n",
        "The average movie admission price for a recent year was 7.18 Dollars. The\n",
        "population,variance was 3.81. A random sample of 15 theatre admission prices\n",
        "had a mean of 8.02 Dollars with a standard,deviation of $2.08. At α = 0.05, is there\n",
        "sufficient evidence to conclude a difference from the population variance?\n",
        "Assume the variable is normally distributed."
      ]
    },
    {
      "cell_type": "code",
      "metadata": {
        "id": "YZ6JDybwWJiI"
      },
      "source": [
        "#H0 : σ2 = 3.81, Ha : σ2 != 3.81\n",
        "n = 15\n",
        "degrees_of_freedom = n-1\n",
        "s_square = 4.326\n",
        "sigma_square = 3.81 \n",
        "alpha = 0.05"
      ],
      "execution_count": 30,
      "outputs": []
    },
    {
      "cell_type": "code",
      "metadata": {
        "colab": {
          "base_uri": "https://localhost:8080/"
        },
        "id": "PCebqY_mWmTB",
        "outputId": "8ca838c8-c6c9-4c26-8d0a-0afd2e834d99"
      },
      "source": [
        "chi_square = ((n-1)*s_square)/sigma_square\n",
        "chi_square"
      ],
      "execution_count": 31,
      "outputs": [
        {
          "output_type": "execute_result",
          "data": {
            "text/plain": [
              "15.896062992125982"
            ]
          },
          "metadata": {},
          "execution_count": 31
        }
      ]
    },
    {
      "cell_type": "code",
      "metadata": {
        "colab": {
          "base_uri": "https://localhost:8080/"
        },
        "id": "4F0oSC2WWmEL",
        "outputId": "67116a2a-48c3-4ffd-f2dc-65348528b353"
      },
      "source": [
        "chi_square_critical =  st.chi2.ppf(alpha, degrees_of_freedom) #\"1-alpha\" as per Bluman's table\n",
        "chi_square_critical"
      ],
      "execution_count": 32,
      "outputs": [
        {
          "output_type": "execute_result",
          "data": {
            "text/plain": [
              "6.57063138378934"
            ]
          },
          "metadata": {},
          "execution_count": 32
        }
      ]
    },
    {
      "cell_type": "code",
      "metadata": {
        "colab": {
          "base_uri": "https://localhost:8080/"
        },
        "id": "D8E-jo7xWlo5",
        "outputId": "f476e2a6-f400-41ce-af9d-d2c18884adc4"
      },
      "source": [
        "if (chi_square > chi_square_critical):\n",
        "    print(\"Null hypothesis cannot be rejected\")\n",
        "else:\n",
        "    print(\"Reject null hypothesis\")"
      ],
      "execution_count": 33,
      "outputs": [
        {
          "output_type": "stream",
          "name": "stdout",
          "text": [
            "Null hypothesis cannot be rejected\n"
          ]
        }
      ]
    },
    {
      "cell_type": "markdown",
      "metadata": {
        "id": "SMZS1szEXg7Q"
      },
      "source": [
        "##9. Fuel Consumption \n",
        "The standard deviation of fuel,consumption of a manufacturer’s sport utility\n",
        "vehicle,is hypothesized to be 3.3 miles per gallon. A random,sample of 18 vehicles\n",
        "has a standard deviation of,2.8 miles per gallon. At α = 0.10, is the claim,\n",
        "believable?\n"
      ]
    },
    {
      "cell_type": "code",
      "metadata": {
        "id": "h6Axou0eXdUz"
      },
      "source": [
        "#H0 : σ2 = 3.3, Ha : σ2 !=3.3\n",
        "n = 18\n",
        "degrees_of_freedom = n-1\n",
        "s_square = 2.8\n",
        "sigma_square = 3.3 \n",
        "alpha = 0.10"
      ],
      "execution_count": 34,
      "outputs": []
    },
    {
      "cell_type": "code",
      "metadata": {
        "colab": {
          "base_uri": "https://localhost:8080/"
        },
        "id": "3y_9TEaEiWxX",
        "outputId": "3323ebf5-23d2-47fc-a033-4833a6851085"
      },
      "source": [
        "chi_square = ((n-1)*s_square)/sigma_square\n",
        "chi_square"
      ],
      "execution_count": 35,
      "outputs": [
        {
          "output_type": "execute_result",
          "data": {
            "text/plain": [
              "14.424242424242424"
            ]
          },
          "metadata": {},
          "execution_count": 35
        }
      ]
    },
    {
      "cell_type": "code",
      "metadata": {
        "colab": {
          "base_uri": "https://localhost:8080/"
        },
        "id": "L9isxpttiZKI",
        "outputId": "aa41e69e-6de2-4298-950a-9e511f62c280"
      },
      "source": [
        "p_val = st.chi2.cdf(chi_square, degrees_of_freedom)*2\n",
        "p_val"
      ],
      "execution_count": 36,
      "outputs": [
        {
          "output_type": "execute_result",
          "data": {
            "text/plain": [
              "0.7262460083554299"
            ]
          },
          "metadata": {},
          "execution_count": 36
        }
      ]
    },
    {
      "cell_type": "code",
      "metadata": {
        "colab": {
          "base_uri": "https://localhost:8080/"
        },
        "id": "9ogtWuzTibeO",
        "outputId": "5d3c4bad-d5b1-488b-ed12-0597e786feb1"
      },
      "source": [
        "if (p_val > alpha):\n",
        "    print(\"Null hypothesis cannot be rejected\")\n",
        "else:\n",
        "    print(\"Reject null hypothesis\")"
      ],
      "execution_count": 37,
      "outputs": [
        {
          "output_type": "stream",
          "name": "stdout",
          "text": [
            "Null hypothesis cannot be rejected\n"
          ]
        }
      ]
    },
    {
      "cell_type": "markdown",
      "metadata": {
        "id": "8iVC2ZTqaNTK"
      },
      "source": [
        "##10. Tire Inflation:\n",
        "To see whether people are keeping their car tires inflated to the correct level of 35\n",
        "pounds per square inch (psi), a tire company manager selects a random sample of\n",
        "36 tires and checks the pressure. The mean of the sample is 33.5 psi, and the\n",
        "population standard deviation is 3 psi. Are the tires properly inflated? Use α = 0.10.\n",
        "Find the 90% confidence interval of the mean. Do the results agree? Explain"
      ]
    },
    {
      "cell_type": "code",
      "metadata": {
        "id": "iwQhZSeVaham"
      },
      "source": [
        "#H0 : μ = 35, Ha :  μ != 35\n",
        "n = 20\n",
        "xbar = 4.2\n",
        "mu = 4\n",
        "sigma = 0.6\n",
        "alpha = 0.10"
      ],
      "execution_count": 38,
      "outputs": []
    },
    {
      "cell_type": "code",
      "metadata": {
        "colab": {
          "base_uri": "https://localhost:8080/"
        },
        "id": "AGGQcC-LbP7w",
        "outputId": "a574ca8d-5946-4722-8208-a18002439d6f"
      },
      "source": [
        "z_critical = abs(st.norm.ppf(alpha)) #Absolute value taken as the it's a right-tailed test and the original value will be negative\n",
        "z_critical"
      ],
      "execution_count": 39,
      "outputs": [
        {
          "output_type": "execute_result",
          "data": {
            "text/plain": [
              "1.2815515655446004"
            ]
          },
          "metadata": {},
          "execution_count": 39
        }
      ]
    },
    {
      "cell_type": "code",
      "metadata": {
        "colab": {
          "base_uri": "https://localhost:8080/"
        },
        "id": "z-AGdnhgbTOY",
        "outputId": "0af9ad6f-a38b-497b-b357-eae160b0a8e1"
      },
      "source": [
        "z = (xbar-mu)/(sigma/np.sqrt(n))\n",
        "z"
      ],
      "execution_count": 40,
      "outputs": [
        {
          "output_type": "execute_result",
          "data": {
            "text/plain": [
              "1.4907119849998614"
            ]
          },
          "metadata": {},
          "execution_count": 40
        }
      ]
    },
    {
      "cell_type": "code",
      "metadata": {
        "colab": {
          "base_uri": "https://localhost:8080/"
        },
        "id": "7rhYg5yQbVbp",
        "outputId": "9a069feb-92ad-46c5-ac1e-849739b6a80d"
      },
      "source": [
        "if (z < z_critical): #Right-tailed test\n",
        "    print(\"Null hypothesis cannot be rejected\")\n",
        "else:\n",
        "    print(\"Reject null hypothesis\")"
      ],
      "execution_count": 41,
      "outputs": [
        {
          "output_type": "stream",
          "name": "stdout",
          "text": [
            "Reject null hypothesis\n"
          ]
        }
      ]
    }
  ]
}